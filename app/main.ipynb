{
 "cells": [
  {
   "cell_type": "code",
   "metadata": {
    "collapsed": true,
    "pycharm": {
     "name": "#%%\n"
    }
   },
   "source": [
    "import pandas as pd\n",
    "import numpy as np\n",
    "import sqlite3\n",
    "import os\n",
    "import matplotlib.pyplot as plt"
   ],
   "outputs": [],
   "execution_count": null
  },
  {
   "cell_type": "markdown",
   "source": [
    "# Task 0\n",
    "Data extraction: get the data from 3 tables & combine it into single `.csv` file.\n",
    "After that read this file using pandas to create Dataframe.\n",
    "So it will be all joined data in 1 dataframe. Quick check - should be 74818 rows in it."
   ],
   "metadata": {
    "collapsed": false,
    "pycharm": {
     "name": "#%% md\n"
    }
   }
  },
  {
   "cell_type": "code",
   "source": [
    "current_dir = os.getcwd()\n",
    "\n",
    "db_path = os.path.join(current_dir, \"..\", \"db.sqlite3\")\n",
    "\n",
    "conn = sqlite3.connect(db_path)\n",
    "\n",
    "query = \"\"\"\n",
    "SELECT *\n",
    "FROM restaurant_product p\n",
    "JOIN restaurant_orderitem oi ON p.id = oi.id\n",
    "JOIN restaurant_order o ON oi.id = o.id\n",
    "\"\"\"\n",
    "\n",
    "df = pd.read_sql_query(query, conn)\n",
    "\n",
    "df.to_csv(\"restaurant_data.csv\", index=False)\n",
    "\n",
    "print(f'Кількість рядків у датафреймі: {len(df)}')\n",
    "\n",
    "conn.close()\n",
    "df"
   ],
   "metadata": {
    "collapsed": false,
    "pycharm": {
     "name": "#%%\n"
    }
   },
   "outputs": [],
   "execution_count": null
  },
  {
   "cell_type": "markdown",
   "source": [
    "# Task 1\n",
    "Get Top 10 most popular products in restaurant sold by Quantity.\n",
    "Count how many times each product was sold and create a pie chart with percentage of popularity (by quantity) for top 10 of them.\n",
    "\n",
    "Example:\n",
    "\n",
    "![pie chart](../demo/pie.png)"
   ],
   "metadata": {
    "collapsed": false,
    "pycharm": {
     "name": "#%% md\n"
    }
   }
  },
  {
   "cell_type": "code",
   "source": [
    "top_products = df.groupby(\"name\")[\"quantity\"].sum().reset_index()\n",
    "\n",
    "top_10_products = top_products.sort_values(by='quantity', ascending=False).head(10)\n",
    "\n",
    "plt.figure(figsize=(8, 8))\n",
    "plt.pie(top_10_products[\"quantity\"], labels=top_10_products[\"name\"], autopct=\"%1.1f%%\", startangle=90)\n",
    "plt.title(\"Top 10 Most Popular Products by Quantity Sold\")\n",
    "plt.axis(\"equal\")\n",
    "plt.show()"
   ],
   "metadata": {
    "collapsed": false,
    "pycharm": {
     "name": "#%%\n"
    }
   },
   "outputs": [],
   "execution_count": null
  },
  {
   "cell_type": "markdown",
   "source": [
    "# Task 2\n",
    "Calculate `Item Price` (Product Price * Quantity) for each Order Item in dataframe.\n",
    "And Make the same Top 10 pie chart, but this time by `Item Price`. So this chart should describe not the most popular products by quantity, but which products (top 10) make the most money for restaurant. It should be also with percentage."
   ],
   "metadata": {
    "collapsed": false,
    "pycharm": {
     "name": "#%% md\n"
    }
   }
  },
  {
   "cell_type": "code",
   "source": [
    "df[\"item_price\"] = df[\"price\"] * df[\"quantity\"]\n",
    "top_products_by_price = df.groupby(\"name\")[\"item_price\"].sum().reset_index()\n",
    "\n",
    "top_10_products_by_price = top_products_by_price.sort_values(by=\"item_price\", ascending=False).head(10)\n",
    "plt.figure(figsize=(8, 8))\n",
    "plt.pie(top_10_products_by_price[\"item_price\"], labels=top_10_products_by_price[\"name\"], autopct=\"%1.1f%%\", startangle=90)\n",
    "plt.title(\"Top 10 Products by Revenue (Item Price)\")\n",
    "plt.axis(\"equal\")\n",
    "plt.show()"
   ],
   "metadata": {
    "collapsed": false,
    "pycharm": {
     "name": "#%%\n",
     "is_executing": true
    }
   },
   "outputs": [],
   "execution_count": null
  },
  {
   "cell_type": "markdown",
   "source": [
    "# Task 3\n",
    "Calculate `Order Hour` based on `Order Datetime`, which will tell about the specific our the order was created (from 0 to 23). Using `Order Hour` create a bar chart, which will tell the total restaurant income based on the hour order was created. So on x-axis - it will be values from 0 to 23 (hours), on y-axis - it will be the total sum of order prices, which were sold on that hour.\n",
    "\n",
    "Example:\n",
    "\n",
    "![bar chart](../demo/bar.png)"
   ],
   "metadata": {
    "collapsed": false,
    "pycharm": {
     "name": "#%% md\n"
    }
   }
  },
  {
   "cell_type": "code",
   "source": [
    "df[\"datetime\"] = pd.to_datetime(df[\"datetime\"])\n",
    "df[\"order_hour\"] = df[\"datetime\"].dt.hour\n",
    "income_by_hour = df.groupby(\"order_hour\")[\"item_price\"].sum().reset_index()\n",
    "plt.figure(figsize=(10, 6))\n",
    "plt.bar(income_by_hour['order_hour'], income_by_hour['item_price'], color='skyblue')\n",
    "\n",
    "plt.title(\"Total Restaurant Income by Order Hour\", fontsize=14)\n",
    "plt.xlabel(\"Hour of the Day\", fontsize=12)\n",
    "plt.ylabel(\"Total Income ($)\", fontsize=12)\n",
    "\n",
    "plt.xticks(range(24))\n",
    "plt.show()"
   ],
   "metadata": {
    "collapsed": false,
    "pycharm": {
     "name": "#%%\n"
    }
   },
   "outputs": [],
   "execution_count": null
  },
  {
   "cell_type": "markdown",
   "source": [
    "# Task 4\n",
    "Make similar bar chart, but right now with `Order Day Of The Week` (from Monday to Sunday), and also analyze total restaurant income by each day of the week."
   ],
   "metadata": {
    "collapsed": false,
    "pycharm": {
     "name": "#%% md\n"
    }
   }
  },
  {
   "cell_type": "code",
   "source": [
    "df[\"order_day_of_week\"] = df[\"datetime\"].dt.dayofweek\n",
    "\n",
    "income_by_day_of_week = df.groupby(\"order_day_of_week\")[\"item_price\"].sum().reset_index()\n",
    "\n",
    "day_names = [\"Monday\", \"Tuesday\", \"Wednesday\", \"Thursday\", \"Friday\", \"Saturday\", \"Sunday\"]\n",
    "income_by_day_of_week[\"day_name\"] = income_by_day_of_week[\"order_day_of_week\"].apply(lambda x: day_names[x])\n",
    "\n",
    "plt.figure(figsize=(10, 6))\n",
    "plt.bar(income_by_day_of_week[\"day_name\"], income_by_day_of_week[\"item_price\"], color=\"skyblue\")\n",
    "\n",
    "plt.title(\"Total Restaurant Income by Day of the Week\", fontsize=14)\n",
    "plt.xlabel(\"Day of the Week\", fontsize=12)\n",
    "plt.ylabel(\"Total Income ($)\", fontsize=12)\n",
    "\n",
    "plt.xticks(rotation=45)\n",
    "plt.show()"
   ],
   "metadata": {
    "collapsed": false,
    "pycharm": {
     "name": "#%%\n"
    }
   },
   "outputs": [],
   "execution_count": null
  },
  {
   "metadata": {},
   "cell_type": "code",
   "source": "",
   "outputs": [],
   "execution_count": null
  }
 ],
 "metadata": {
  "kernelspec": {
   "display_name": "Python 3",
   "language": "python",
   "name": "python3"
  },
  "language_info": {
   "codemirror_mode": {
    "name": "ipython",
    "version": 2
   },
   "file_extension": ".py",
   "mimetype": "text/x-python",
   "name": "python",
   "nbconvert_exporter": "python",
   "pygments_lexer": "ipython2",
   "version": "2.7.6"
  }
 },
 "nbformat": 4,
 "nbformat_minor": 0
}
